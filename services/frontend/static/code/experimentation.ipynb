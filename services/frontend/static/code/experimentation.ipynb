{
 "cells": [
  {
   "cell_type": "code",
   "execution_count": 24,
   "metadata": {},
   "outputs": [],
   "source": [
    "import json\n",
    "import numpy as np\n",
    "import pandas as pd\n",
    "import matplotlib.pyplot as plt\n",
    "from sklearn.linear_model import LinearRegression, LogisticRegression\n",
    "from sklearn.preprocessing import PolynomialFeatures\n",
    "from sklearn.datasets import load_iris\n",
    "from sklearn.metrics import confusion_matrix, accuracy_score"
   ]
  },
  {
   "cell_type": "code",
   "execution_count": 26,
   "metadata": {},
   "outputs": [],
   "source": [
    "X,y=load_iris(return_X_y=True,as_frame=True)\n",
    "y=(y==1).astype(int)"
   ]
  },
  {
   "cell_type": "code",
   "execution_count": 39,
   "metadata": {},
   "outputs": [],
   "source": [
    "lr = LogisticRegression()\n",
    "lr.fit(X[['petal width (cm)']],y)\n",
    "y_pred = lr.predict(X[['petal width (cm)']])"
   ]
  },
  {
   "cell_type": "code",
   "execution_count": 40,
   "metadata": {},
   "outputs": [
    {
     "data": {
      "text/plain": [
       "(array([[0.31674312]]), array([-1.08273597]))"
      ]
     },
     "execution_count": 40,
     "metadata": {},
     "output_type": "execute_result"
    }
   ],
   "source": [
    "lr.coef_, lr.intercept_"
   ]
  },
  {
   "cell_type": "code",
   "execution_count": 34,
   "metadata": {},
   "outputs": [
    {
     "data": {
      "text/plain": [
       "array([0, 0, 0, 0, 0, 0, 0, 0, 0, 0, 0, 0, 0, 0, 0, 0, 0, 0, 0, 0, 0, 0,\n",
       "       0, 0, 0, 0, 0, 0, 0, 0, 0, 0, 0, 0, 0, 0, 0, 0, 0, 0, 0, 1, 0, 0,\n",
       "       0, 0, 0, 0, 0, 0, 0, 0, 0, 1, 0, 0, 0, 1, 0, 1, 1, 0, 1, 0, 0, 0,\n",
       "       0, 1, 1, 1, 0, 0, 1, 0, 0, 0, 0, 0, 0, 1, 1, 1, 1, 1, 0, 0, 0, 1,\n",
       "       0, 1, 1, 0, 1, 1, 1, 0, 0, 0, 1, 0, 0, 1, 0, 0, 0, 0, 1, 0, 1, 0,\n",
       "       0, 1, 0, 1, 0, 0, 0, 0, 1, 1, 0, 0, 0, 1, 0, 0, 0, 0, 0, 0, 0, 0,\n",
       "       0, 0, 1, 0, 0, 0, 0, 0, 0, 0, 1, 0, 0, 0, 1, 0, 0, 0])"
      ]
     },
     "execution_count": 34,
     "metadata": {},
     "output_type": "execute_result"
    }
   ],
   "source": [
    "y_pred"
   ]
  },
  {
   "cell_type": "code",
   "execution_count": 33,
   "metadata": {},
   "outputs": [
    {
     "data": {
      "text/plain": [
       "array([88, 12, 29, 21], dtype=int64)"
      ]
     },
     "execution_count": 33,
     "metadata": {},
     "output_type": "execute_result"
    }
   ],
   "source": [
    "confusion_matrix(y,y_pred).ravel()"
   ]
  },
  {
   "cell_type": "code",
   "execution_count": 188,
   "metadata": {},
   "outputs": [],
   "source": [
    "def quadratic_data(return_theta=False, return_test=False, noise=4, **kwargs):\n",
    "    m = 100\n",
    "    flip = -1 if np.random.rand()>.5 else 1\n",
    "\n",
    "    X = (np.random.uniform(np.random.randint(-10,-2),np.random.randint(2,10),m)).reshape(-1,1)\n",
    "    y = (X**2 + X + 2 + (np.random.randn(m, 1) * noise)) * flip\n",
    "    df = (\n",
    "        pd.DataFrame(np.c_[np.ones((m, 1)), X, X**2, y], columns=['X_b','X', 'XX','y'])\n",
    "        .reset_index()\n",
    "        .rename(columns={'index':'i'})\n",
    "    )\n",
    "\n",
    "    r = {}\n",
    "\n",
    "    if return_theta:\n",
    "        lr = LinearRegression()\n",
    "        lr.fit(df[['X','XX']],y)\n",
    "        theta0_best, theta1_best, theta2_best = lr.intercept_[0], lr.coef_[0][0], lr.coef_[0][1]\n",
    "        r['theta0_best'] = theta0_best\n",
    "        r['theta1_best'] = theta1_best\n",
    "        r['theta2_best'] = theta2_best\n",
    "    \n",
    "    if return_test:\n",
    "        r['data_train'] = json.loads(df[:int(m/2)].to_json(orient='records'))\n",
    "        r['data_test'] = json.loads(df[int(m/2):].to_json(orient='records'))\n",
    "    else:\n",
    "        r['data'] = json.loads(df.to_json(orient='records'))\n",
    "\n",
    "    return r"
   ]
  },
  {
   "cell_type": "code",
   "execution_count": 215,
   "metadata": {},
   "outputs": [
    {
     "data": {
      "text/plain": [
       "<AxesSubplot:xlabel='X', ylabel='y'>"
      ]
     },
     "execution_count": 215,
     "metadata": {},
     "output_type": "execute_result"
    },
    {
     "data": {
      "image/png": "[encoded data removed]",
      "text/plain": [
       "<Figure size 432x288 with 1 Axes>"
      ]
     },
     "metadata": {
      "needs_background": "light"
     },
     "output_type": "display_data"
    }
   ],
   "source": [
    "pd.DataFrame(quadratic_data(noise=5)['data']).plot(kind='scatter', x='X', y='y')"
   ]
  },
  {
   "cell_type": "code",
   "execution_count": 80,
   "metadata": {},
   "outputs": [],
   "source": [
    "def logreg_data(y_idx=2,X_idx=2,return_theta=False,**kwargs):\n",
    "    X,y=load_iris(return_X_y=True, as_frame=True)\n",
    "    X = X.iloc[:,X_idx]\n",
    "    y = (y == y_idx).astype(int)\n",
    "\n",
    "    r = {'data': json.loads(pd.DataFrame({'X':X,'y':y}).to_json(orient='records'))}\n",
    "\n",
    "    if return_theta:\n",
    "        lr = LogisticRegression()\n",
    "        lr.fit(X.to_numpy().reshape(-1,1),y.ravel())\n",
    "        theta0_best, theta1_best = lr.intercept_[0], lr.coef_[0][0]\n",
    "        r['theta0_best'] = theta0_best\n",
    "        r['theta1_best'] = theta1_best\n",
    "\n",
    "    return r"
   ]
  },
  {
   "cell_type": "code",
   "execution_count": 83,
   "metadata": {},
   "outputs": [
    {
     "data": {
      "text/plain": [
       "{'data': [{'X': 5.1, 'y': 1},\n",
       "  {'X': 4.9, 'y': 1},\n",
       "  {'X': 4.7, 'y': 1},\n",
       "  {'X': 4.6, 'y': 1},\n",
       "  {'X': 5.0, 'y': 1},\n",
       "  {'X': 5.4, 'y': 1},\n",
       "  {'X': 4.6, 'y': 1},\n",
       "  {'X': 5.0, 'y': 1},\n",
       "  {'X': 4.4, 'y': 1},\n",
       "  {'X': 4.9, 'y': 1},\n",
       "  {'X': 5.4, 'y': 1},\n",
       "  {'X': 4.8, 'y': 1},\n",
       "  {'X': 4.8, 'y': 1},\n",
       "  {'X': 4.3, 'y': 1},\n",
       "  {'X': 5.8, 'y': 1},\n",
       "  {'X': 5.7, 'y': 1},\n",
       "  {'X': 5.4, 'y': 1},\n",
       "  {'X': 5.1, 'y': 1},\n",
       "  {'X': 5.7, 'y': 1},\n",
       "  {'X': 5.1, 'y': 1},\n",
       "  {'X': 5.4, 'y': 1},\n",
       "  {'X': 5.1, 'y': 1},\n",
       "  {'X': 4.6, 'y': 1},\n",
       "  {'X': 5.1, 'y': 1},\n",
       "  {'X': 4.8, 'y': 1},\n",
       "  {'X': 5.0, 'y': 1},\n",
       "  {'X': 5.0, 'y': 1},\n",
       "  {'X': 5.2, 'y': 1},\n",
       "  {'X': 5.2, 'y': 1},\n",
       "  {'X': 4.7, 'y': 1},\n",
       "  {'X': 4.8, 'y': 1},\n",
       "  {'X': 5.4, 'y': 1},\n",
       "  {'X': 5.2, 'y': 1},\n",
       "  {'X': 5.5, 'y': 1},\n",
       "  {'X': 4.9, 'y': 1},\n",
       "  {'X': 5.0, 'y': 1},\n",
       "  {'X': 5.5, 'y': 1},\n",
       "  {'X': 4.9, 'y': 1},\n",
       "  {'X': 4.4, 'y': 1},\n",
       "  {'X': 5.1, 'y': 1},\n",
       "  {'X': 5.0, 'y': 1},\n",
       "  {'X': 4.5, 'y': 1},\n",
       "  {'X': 4.4, 'y': 1},\n",
       "  {'X': 5.0, 'y': 1},\n",
       "  {'X': 5.1, 'y': 1},\n",
       "  {'X': 4.8, 'y': 1},\n",
       "  {'X': 5.1, 'y': 1},\n",
       "  {'X': 4.6, 'y': 1},\n",
       "  {'X': 5.3, 'y': 1},\n",
       "  {'X': 5.0, 'y': 1},\n",
       "  {'X': 7.0, 'y': 0},\n",
       "  {'X': 6.4, 'y': 0},\n",
       "  {'X': 6.9, 'y': 0},\n",
       "  {'X': 5.5, 'y': 0},\n",
       "  {'X': 6.5, 'y': 0},\n",
       "  {'X': 5.7, 'y': 0},\n",
       "  {'X': 6.3, 'y': 0},\n",
       "  {'X': 4.9, 'y': 0},\n",
       "  {'X': 6.6, 'y': 0},\n",
       "  {'X': 5.2, 'y': 0},\n",
       "  {'X': 5.0, 'y': 0},\n",
       "  {'X': 5.9, 'y': 0},\n",
       "  {'X': 6.0, 'y': 0},\n",
       "  {'X': 6.1, 'y': 0},\n",
       "  {'X': 5.6, 'y': 0},\n",
       "  {'X': 6.7, 'y': 0},\n",
       "  {'X': 5.6, 'y': 0},\n",
       "  {'X': 5.8, 'y': 0},\n",
       "  {'X': 6.2, 'y': 0},\n",
       "  {'X': 5.6, 'y': 0},\n",
       "  {'X': 5.9, 'y': 0},\n",
       "  {'X': 6.1, 'y': 0},\n",
       "  {'X': 6.3, 'y': 0},\n",
       "  {'X': 6.1, 'y': 0},\n",
       "  {'X': 6.4, 'y': 0},\n",
       "  {'X': 6.6, 'y': 0},\n",
       "  {'X': 6.8, 'y': 0},\n",
       "  {'X': 6.7, 'y': 0},\n",
       "  {'X': 6.0, 'y': 0},\n",
       "  {'X': 5.7, 'y': 0},\n",
       "  {'X': 5.5, 'y': 0},\n",
       "  {'X': 5.5, 'y': 0},\n",
       "  {'X': 5.8, 'y': 0},\n",
       "  {'X': 6.0, 'y': 0},\n",
       "  {'X': 5.4, 'y': 0},\n",
       "  {'X': 6.0, 'y': 0},\n",
       "  {'X': 6.7, 'y': 0},\n",
       "  {'X': 6.3, 'y': 0},\n",
       "  {'X': 5.6, 'y': 0},\n",
       "  {'X': 5.5, 'y': 0},\n",
       "  {'X': 5.5, 'y': 0},\n",
       "  {'X': 6.1, 'y': 0},\n",
       "  {'X': 5.8, 'y': 0},\n",
       "  {'X': 5.0, 'y': 0},\n",
       "  {'X': 5.6, 'y': 0},\n",
       "  {'X': 5.7, 'y': 0},\n",
       "  {'X': 5.7, 'y': 0},\n",
       "  {'X': 6.2, 'y': 0},\n",
       "  {'X': 5.1, 'y': 0},\n",
       "  {'X': 5.7, 'y': 0},\n",
       "  {'X': 6.3, 'y': 0},\n",
       "  {'X': 5.8, 'y': 0},\n",
       "  {'X': 7.1, 'y': 0},\n",
       "  {'X': 6.3, 'y': 0},\n",
       "  {'X': 6.5, 'y': 0},\n",
       "  {'X': 7.6, 'y': 0},\n",
       "  {'X': 4.9, 'y': 0},\n",
       "  {'X': 7.3, 'y': 0},\n",
       "  {'X': 6.7, 'y': 0},\n",
       "  {'X': 7.2, 'y': 0},\n",
       "  {'X': 6.5, 'y': 0},\n",
       "  {'X': 6.4, 'y': 0},\n",
       "  {'X': 6.8, 'y': 0},\n",
       "  {'X': 5.7, 'y': 0},\n",
       "  {'X': 5.8, 'y': 0},\n",
       "  {'X': 6.4, 'y': 0},\n",
       "  {'X': 6.5, 'y': 0},\n",
       "  {'X': 7.7, 'y': 0},\n",
       "  {'X': 7.7, 'y': 0},\n",
       "  {'X': 6.0, 'y': 0},\n",
       "  {'X': 6.9, 'y': 0},\n",
       "  {'X': 5.6, 'y': 0},\n",
       "  {'X': 7.7, 'y': 0},\n",
       "  {'X': 6.3, 'y': 0},\n",
       "  {'X': 6.7, 'y': 0},\n",
       "  {'X': 7.2, 'y': 0},\n",
       "  {'X': 6.2, 'y': 0},\n",
       "  {'X': 6.1, 'y': 0},\n",
       "  {'X': 6.4, 'y': 0},\n",
       "  {'X': 7.2, 'y': 0},\n",
       "  {'X': 7.4, 'y': 0},\n",
       "  {'X': 7.9, 'y': 0},\n",
       "  {'X': 6.4, 'y': 0},\n",
       "  {'X': 6.3, 'y': 0},\n",
       "  {'X': 6.1, 'y': 0},\n",
       "  {'X': 7.7, 'y': 0},\n",
       "  {'X': 6.3, 'y': 0},\n",
       "  {'X': 6.4, 'y': 0},\n",
       "  {'X': 6.0, 'y': 0},\n",
       "  {'X': 6.9, 'y': 0},\n",
       "  {'X': 6.7, 'y': 0},\n",
       "  {'X': 6.9, 'y': 0},\n",
       "  {'X': 5.8, 'y': 0},\n",
       "  {'X': 6.8, 'y': 0},\n",
       "  {'X': 6.7, 'y': 0},\n",
       "  {'X': 6.7, 'y': 0},\n",
       "  {'X': 6.3, 'y': 0},\n",
       "  {'X': 6.5, 'y': 0},\n",
       "  {'X': 6.2, 'y': 0},\n",
       "  {'X': 5.9, 'y': 0}],\n",
       " 'theta0_best': 18.545561298367677,\n",
       " 'theta1_best': -3.4577249894951803}"
      ]
     },
     "execution_count": 83,
     "metadata": {},
     "output_type": "execute_result"
    }
   ],
   "source": [
    "logreg_data(X_idx=0,y_idx=0,return_theta=True)"
   ]
  },
  {
   "cell_type": "code",
   "execution_count": 21,
   "metadata": {},
   "outputs": [
    {
     "data": {
      "text/plain": [
       "0      1.4\n",
       "1      1.4\n",
       "2      1.3\n",
       "3      1.5\n",
       "4      1.4\n",
       "      ... \n",
       "145    5.2\n",
       "146    5.0\n",
       "147    5.2\n",
       "148    5.4\n",
       "149    5.1\n",
       "Name: petal length (cm), Length: 150, dtype: float64"
      ]
     },
     "execution_count": 21,
     "metadata": {},
     "output_type": "execute_result"
    }
   ],
   "source": [
    "X.iloc[:,2]"
   ]
  },
  {
   "cell_type": "code",
   "execution_count": 11,
   "metadata": {},
   "outputs": [
    {
     "data": {
      "text/plain": [
       "0      0\n",
       "1      0\n",
       "2      0\n",
       "3      0\n",
       "4      0\n",
       "      ..\n",
       "145    1\n",
       "146    1\n",
       "147    1\n",
       "148    1\n",
       "149    1\n",
       "Name: target, Length: 150, dtype: int32"
      ]
     },
     "execution_count": 11,
     "metadata": {},
     "output_type": "execute_result"
    }
   ],
   "source": [
    "y"
   ]
  },
  {
   "cell_type": "code",
   "execution_count": 6,
   "metadata": {},
   "outputs": [],
   "source": [
    "def quadratic_data(return_theta=False, return_test=False, **kwargs):\n",
    "    m = 100\n",
    "    rand1 = np.random.randint(6,8)\n",
    "    flip = -1 if np.random.rand()>.5 else 1\n",
    "\n",
    "    X = rand1 * np.random.rand(m, 1) - (rand1/2)\n",
    "    y = ((np.random.randint(5,15)/10) * X**2 + X + 2 + np.random.randn(m, 1)) * flip\n",
    "    df = (\n",
    "        pd.DataFrame(np.c_[np.ones((m, 1)), X, X**2, y], columns=['X_b','X', 'XX','y'])\n",
    "        .reset_index()\n",
    "        .rename(columns={'index':'i'})\n",
    "    )\n",
    "\n",
    "    r = {}\n",
    "\n",
    "    if return_theta:\n",
    "        lr = LinearRegression()\n",
    "        lr.fit(df[['X','XX']],y)\n",
    "        theta0_best, theta1_best, theta2_best = lr.intercept_[0], lr.coef_[0][0], lr.coef_[0][1]\n",
    "        r['theta0_best'] = theta0_best\n",
    "        r['theta1_best'] = theta1_best\n",
    "        r['theta2_best'] = theta2_best\n",
    "    \n",
    "    if return_test:\n",
    "        r['data_train'] = json.loads(df[:int(m/2)].to_json(orient='records'))\n",
    "        r['data_test'] = json.loads(df[int(m/2):].to_json(orient='records'))\n",
    "    else:\n",
    "        r['data'] = json.loads(df.to_json(orient='records'))\n",
    "\n",
    "    return r"
   ]
  },
  {
   "cell_type": "code",
   "execution_count": 7,
   "metadata": {},
   "outputs": [],
   "source": [
    "d = quadratic_data(return_test=True)"
   ]
  },
  {
   "cell_type": "code",
   "execution_count": null,
   "metadata": {},
   "outputs": [],
   "source": []
  },
  {
   "cell_type": "code",
   "execution_count": 122,
   "metadata": {},
   "outputs": [],
   "source": [
    "def poly_data(degrees=30, **kwargs):\n",
    "    d = quadratic_data(return_test=True)\n",
    "    train = pd.DataFrame(d['data_train'])[['i','X','y']]\n",
    "    test = pd.DataFrame(d['data_test'])[['i','X','y']]\n",
    "    lr = LinearRegression()\n",
    "\n",
    "    polynomials = []\n",
    "    for degree in range(1, degrees+1):\n",
    "        X_poly = PolynomialFeatures(degree=degree, include_bias=True).fit_transform(train['X'].to_numpy().reshape(-1,1))\n",
    "        lr.fit(X_poly, train['y'])\n",
    "        polynomials.append({\n",
    "                'degree':degree,\n",
    "                'theta': [round(lr.intercept_,10),*[round(x,10) for x in lr.coef_[1:]]],\n",
    "                'X': X_poly.tolist()\n",
    "            })\n",
    "    \n",
    "    return {\n",
    "        'data_train': json.loads(train.to_json(orient='records')),\n",
    "        'data_test': json.loads(test.to_json(orient='records')),\n",
    "        'polynomials': polynomials\n",
    "    }"
   ]
  },
  {
   "cell_type": "code",
   "execution_count": 123,
   "metadata": {},
   "outputs": [
    {
     "data": {
      "text/plain": [
       "{'degree': 3,\n",
       " 'theta': [1.8305590516, 1.1458962429, 1.2803400013, -0.0117474813],\n",
       " 'X': [[1.0, 2.1875982582, 4.7855861392796735, 10.468939902754276],\n",
       "  [1.0, -2.2409547912, 5.021878376202236, -11.253802407974076],\n",
       "  [1.0, -2.5614428291, 6.560989366747813, -16.805599165257536],\n",
       "  [1.0, -2.8414416378, 8.073790581023546, -22.94120473179776],\n",
       "  [1.0, 0.5609263744, 0.31463839749752903, 0.176488975555315],\n",
       "  [1.0, -1.1217549506, 1.2583341691956085, -1.4115425838043119],\n",
       "  [1.0, -1.4105213812, 1.9895705668223556, -2.8063318239091357],\n",
       "  [1.0, -1.2524386975, 1.5686026909954962, -1.964578711205394],\n",
       "  [1.0, -2.5921731203, 6.719361485605838, -17.41774822856653],\n",
       "  [1.0, 2.2196270327, 4.926744164292607, 10.935534530260842],\n",
       "  [1.0, -1.4952713892, 2.2358365273600977, -3.3431823902898374],\n",
       "  [1.0, 0.6495760368, 0.4219490275847949, 0.27408797707014493],\n",
       "  [1.0, 0.9856530995, 0.9715120325539569, 0.9575738460883525],\n",
       "  [1.0, 1.7288935991, 2.989073077008952, 5.167789310082918],\n",
       "  [1.0, 0.0360485019, 0.0012994944892343037, 4.6844829564202326e-05],\n",
       "  [1.0, 0.7681218255, 0.5900111388094524, 0.4532004330076505],\n",
       "  [1.0, 1.8079689102, 3.2687515802497757, 5.909801232258715],\n",
       "  [1.0, 1.721519545, 2.963629543817007, 5.101946183820412],\n",
       "  [1.0, -1.7152099269, 2.9419450933363036, -5.046053428485175],\n",
       "  [1.0, -1.8063667958, 3.262961000968759, -5.894104408140298],\n",
       "  [1.0, 0.068618721, 0.00470852887167584, 0.0003230932289659692],\n",
       "  [1.0, 0.285234794, 0.08135888770822244, 0.02320638557552396],\n",
       "  [1.0, 2.8555368377, 8.154090631461715, 23.28430617608338],\n",
       "  [1.0, -2.4756321014, 6.1287543014821795, -15.172540890342617],\n",
       "  [1.0, -2.1788428783, 4.7473562883186275, -10.343743439555762],\n",
       "  [1.0, 2.4373905788, 5.940872833623, 14.48022747452156],\n",
       "  [1.0, -0.399403795, 0.15952339146040204, -0.06371424794055516],\n",
       "  [1.0, -1.6601929534, 2.7562406425190145, -4.575891292584756],\n",
       "  [1.0, -0.0120090446, 0.00014421715220478914, -1.731910212912301e-06],\n",
       "  [1.0, -0.7889320521, 0.622413782830717, -0.4910421829439613],\n",
       "  [1.0, 1.2216513113, 1.4924319264010095, 1.8232314199137785],\n",
       "  [1.0, -2.4949209488, 6.224630540761092, -15.52996113468512],\n",
       "  [1.0, -1.2682113071, 1.6083599194562908, -2.039740235740913],\n",
       "  [1.0, 1.0818320548, 1.1703605947927902, 1.2661336071216345],\n",
       "  [1.0, 0.9472710255, 0.8973223957518216, 0.8500075060279448],\n",
       "  [1.0, -1.5855355938, 2.5139231192067184, -3.9859145855789726],\n",
       "  [1.0, 1.341126351, 1.7986198893465752, 2.412176529035396],\n",
       "  [1.0, 0.858839919, 0.7376060064679266, 0.6334854828488276],\n",
       "  [1.0, -2.6922382128, 7.248146594460538, -19.513737233582845],\n",
       "  [1.0, -2.5172268975, 6.336431253497476, -15.950235185463487],\n",
       "  [1.0, -2.578373838, 6.648011648482851, -17.141059309167435],\n",
       "  [1.0, -2.522942264, 6.365237667477446, -16.059127131683628],\n",
       "  [1.0, 0.7523923794, 0.5660942925791936, 0.4259250317584193],\n",
       "  [1.0, -2.6602228266, 7.076785487163694, -18.825826291904463],\n",
       "  [1.0, 0.57267405, 0.32795556754340255, 0.1878116430851289],\n",
       "  [1.0, 0.6769032234, 0.45819797384931027, 0.310155685453947],\n",
       "  [1.0, 1.2260213498, 1.5031283501654142, 1.8428674487924483],\n",
       "  [1.0, -2.7253294719, 7.427420730406732, -20.24216861677849],\n",
       "  [1.0, -2.4811961291, 6.156334231060825, -15.275072663553946],\n",
       "  [1.0, 1.8563154099, 3.445906901032205, 6.396690081466837]]}"
      ]
     },
     "execution_count": 123,
     "metadata": {},
     "output_type": "execute_result"
    }
   ],
   "source": [
    "poly_data(5)['polynomials'][2]"
   ]
  },
  {
   "cell_type": "code",
   "execution_count": null,
   "metadata": {},
   "outputs": [],
   "source": []
  }
 ],
 "metadata": {
  "interpreter": {
   "hash": "c22c3d77e5ca6284d2f5615ec16a4766699347f171fb9601f1ee2de71b1720d4"
  },
  "kernelspec": {
   "display_name": "Python 3.7.9 64-bit ('venv': venv)",
   "name": "python3"
  },
  "language_info": {
   "codemirror_mode": {
    "name": "ipython",
    "version": 3
   },
   "file_extension": ".py",
   "mimetype": "text/x-python",
   "name": "python",
   "nbconvert_exporter": "python",
   "pygments_lexer": "ipython3",
   "version": "3.7.9"
  },
  "orig_nbformat": 4
 },
 "nbformat": 4,
 "nbformat_minor": 2
}
